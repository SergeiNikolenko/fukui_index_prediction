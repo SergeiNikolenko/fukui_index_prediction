{
 "cells": [
  {
   "cell_type": "code",
   "execution_count": 11,
   "metadata": {},
   "outputs": [
    {
     "name": "stdout",
     "output_type": "stream",
     "text": [
      "Количество одинаковых значений в столбце 'smiles':\n",
      "2587\n"
     ]
    }
   ],
   "source": [
    "import pandas as pd\n",
    "import numpy as np\n",
    "\n",
    "data = pd.read_csv('../data/QM_137k.csv')\n",
    "duplicate_counts = data['smiles'].value_counts()\n",
    "print(\"Количество одинаковых значений в столбце 'smiles':\")\n",
    "print(duplicate_counts[duplicate_counts > 1].count())\n"
   ]
  },
  {
   "cell_type": "code",
   "execution_count": 12,
   "metadata": {},
   "outputs": [
    {
     "name": "stderr",
     "output_type": "stream",
     "text": [
      "Processing data: 100%|██████████| 136219/136219 [00:22<00:00, 6149.13it/s]\n"
     ]
    }
   ],
   "source": [
    "import pandas as pd\n",
    "from rdkit import Chem\n",
    "from tqdm import tqdm\n",
    "import os\n",
    "\n",
    "def canonical_smiles(smiles):\n",
    "    if pd.isna(smiles):\n",
    "        return None, False, True\n",
    "    try:\n",
    "        mol = Chem.MolFromSmiles(smiles)\n",
    "        if mol is not None:\n",
    "            return Chem.MolToSmiles(mol), True, False\n",
    "        else:\n",
    "            return None, False, False\n",
    "    except:\n",
    "        return None, False, False\n",
    "\n",
    "data['Canonical_smiles'], data['Conversion_Success'], data['Is_NaN'] = zip(*[canonical_smiles(smile) for smile in tqdm(data['smiles'], desc='Processing data')])\n",
    "\n",
    "folder_path = './data'\n",
    "files = os.listdir(folder_path)\n"
   ]
  },
  {
   "cell_type": "code",
   "execution_count": 13,
   "metadata": {},
   "outputs": [
    {
     "name": "stderr",
     "output_type": "stream",
     "text": [
      "Processing approved_drug_chembl.csv:   0%|          | 0/4192 [00:00<?, ?it/s]"
     ]
    },
    {
     "name": "stderr",
     "output_type": "stream",
     "text": [
      "Processing approved_drug_chembl.csv:  11%|█         | 459/4192 [00:00<00:00, 4562.40it/s][00:16:21] WARNING: not removing hydrogen atom without neighbors\n",
      "[00:16:21] WARNING: not removing hydrogen atom without neighbors\n",
      "[00:16:21] WARNING: not removing hydrogen atom without neighbors\n",
      "[00:16:21] WARNING: not removing hydrogen atom without neighbors\n",
      "Processing approved_drug_chembl.csv: 100%|██████████| 4192/4192 [00:01<00:00, 3496.22it/s]\n",
      "Processing phase_2.csv:  20%|█▉        | 489/2474 [00:00<00:00, 4885.31it/s][00:16:22] WARNING: not removing hydrogen atom without neighbors\n",
      "Processing phase_2.csv: 100%|██████████| 2474/2474 [00:00<00:00, 4826.42it/s]\n",
      "Processing phase_3.csv: 100%|██████████| 1735/1735 [00:00<00:00, 4592.10it/s]\n",
      "Processing phase_1.csv: 100%|██████████| 1595/1595 [00:00<00:00, 5674.79it/s]\n"
     ]
    },
    {
     "data": {
      "text/plain": [
       "0                            CNC(=S)N/N=C/c1c(O)ccc2ccccc12\n",
       "1                             O=C(NCCn1cccc1)c1cccc2ccccc12\n",
       "2                         C=C(C)[C@H]1C[C@@H]2OO[C@H]1C=C2C\n",
       "3                                            OCCCc1cc[nH]n1\n",
       "4                             CC(=N)NCc1cccc(CNCc2ccncc2)c1\n",
       "                                ...                        \n",
       "136214    CC(C)(O)C#Cc1ccc(B(O)O)c([C@H](Cc2cc(F)cc(F)c2...\n",
       "136215    CC(C)(C)OC(=O)N1CC(CC#N)(n2cc(B3OC(C)(C)C(C)(C...\n",
       "136216                           CC1(C)OB(C2=CCNCC2)OC1(C)C\n",
       "136217         CC(C)(C)OC(=O)Nc1cc(B2OC(C)(C)C(C)(C)O2)ccn1\n",
       "136218              CC1(C)OB(c2cc(Br)cc(C(F)(F)F)c2)OC1(C)C\n",
       "Name: Canonical_smiles, Length: 136219, dtype: object"
      ]
     },
     "execution_count": 13,
     "metadata": {},
     "output_type": "execute_result"
    }
   ],
   "source": [
    "\n",
    "combined_df = pd.DataFrame()\n",
    "\n",
    "for file in files:\n",
    "    if file.endswith('.csv'):\n",
    "        file_path = os.path.join(folder_path, file)\n",
    "        df = pd.read_csv(file_path, sep=';')\n",
    "        df['Canonical_Smiles'], df['Conversion_Success'], df['Is_NaN'] = zip(*[canonical_smiles(smile) for smile in tqdm(df['Smiles'], desc=f'Processing {file}')])\n",
    "        combined_df = pd.concat([combined_df, df])\n",
    "\n",
    "combined_df_sorted = combined_df[combined_df['Conversion_Success'] == True]\n",
    "\n",
    "combined_df_sorted ['Canonical_Smiles']\n",
    "data ['Canonical_smiles']"
   ]
  },
  {
   "cell_type": "code",
   "execution_count": 14,
   "metadata": {},
   "outputs": [],
   "source": [
    "data_intersection = data[data['Canonical_smiles'].isin(combined_df_sorted['Canonical_Smiles'])].copy()\n",
    "data_intersection = data_intersection.drop(['Canonical_smiles', 'Conversion_Success', 'Is_NaN'], axis=1)\n",
    "data_intersection.reset_index(inplace=True)\n",
    "\n",
    "data_intersection.reset_index(inplace=True)\n",
    "df = data_intersection[['index', 'smiles']].copy()\n",
    "df.to_csv('smiles_id.csv')\n"
   ]
  },
  {
   "cell_type": "code",
   "execution_count": 15,
   "metadata": {},
   "outputs": [
    {
     "data": {
      "text/plain": [
       "(994, 2)"
      ]
     },
     "execution_count": 15,
     "metadata": {},
     "output_type": "execute_result"
    }
   ],
   "source": [
    "df.shape"
   ]
  }
 ],
 "metadata": {
  "kernelspec": {
   "display_name": "chemprop-atom-bond",
   "language": "python",
   "name": "python3"
  },
  "language_info": {
   "codemirror_mode": {
    "name": "ipython",
    "version": 3
   },
   "file_extension": ".py",
   "mimetype": "text/x-python",
   "name": "python",
   "nbconvert_exporter": "python",
   "pygments_lexer": "ipython3",
   "version": "3.8.18"
  }
 },
 "nbformat": 4,
 "nbformat_minor": 2
}
