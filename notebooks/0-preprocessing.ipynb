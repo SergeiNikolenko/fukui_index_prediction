{
 "cells": [
  {
   "cell_type": "markdown",
   "metadata": {},
   "source": [
    "# Preprocessing"
   ]
  },
  {
   "cell_type": "markdown",
   "metadata": {},
   "source": [
    "This notebook preprocesses molecular data for model training. We load, process, and save the dataset, with and without SkipAtom features.\n"
   ]
  },
  {
   "cell_type": "markdown",
   "metadata": {},
   "source": [
    "### Import necessary libraries and functions.\n"
   ]
  },
  {
   "cell_type": "code",
   "execution_count": 5,
   "metadata": {
    "execution": {
     "iopub.execute_input": "2024-03-15T12:16:28.861082Z",
     "iopub.status.busy": "2024-03-15T12:16:28.860833Z",
     "iopub.status.idle": "2024-03-15T12:16:31.677465Z",
     "shell.execute_reply": "2024-03-15T12:16:31.676398Z"
    }
   },
   "outputs": [],
   "source": [
    "import pandas as pd\n",
    "import torch\n",
    "from tqdm import tqdm\n",
    "tqdm.pandas()\n",
    "\n",
    "from fukui_net.utils.prepare import MoleculeDataset, convert_string_to_list"
   ]
  },
  {
   "cell_type": "markdown",
   "metadata": {},
   "source": [
    "### Load the dataset and parse specific columns."
   ]
  },
  {
   "cell_type": "code",
   "execution_count": 6,
   "metadata": {
    "execution": {
     "iopub.execute_input": "2024-03-15T12:16:31.681504Z",
     "iopub.status.busy": "2024-03-15T12:16:31.681296Z",
     "iopub.status.idle": "2024-03-15T12:16:57.940838Z",
     "shell.execute_reply": "2024-03-15T12:16:57.939949Z"
    }
   },
   "outputs": [
    {
     "name": "stderr",
     "output_type": "stream",
     "text": [
      "100%|██████████| 136219/136219 [00:09<00:00, 13999.23it/s]\n"
     ]
    },
    {
     "data": {
      "text/html": [
       "<div>\n",
       "<style scoped>\n",
       "    .dataframe tbody tr th:only-of-type {\n",
       "        vertical-align: middle;\n",
       "    }\n",
       "\n",
       "    .dataframe tbody tr th {\n",
       "        vertical-align: top;\n",
       "    }\n",
       "\n",
       "    .dataframe thead th {\n",
       "        text-align: right;\n",
       "    }\n",
       "</style>\n",
       "<table border=\"1\" class=\"dataframe\">\n",
       "  <thead>\n",
       "    <tr style=\"text-align: right;\">\n",
       "      <th></th>\n",
       "      <th>smiles</th>\n",
       "      <th>hirshfeld_charges</th>\n",
       "      <th>hirshfeld_fukui_elec</th>\n",
       "      <th>hirshfeld_fukui_neu</th>\n",
       "      <th>CDD</th>\n",
       "    </tr>\n",
       "  </thead>\n",
       "  <tbody>\n",
       "    <tr>\n",
       "      <th>0</th>\n",
       "      <td>CNC(=S)N/N=C/c1c(O)ccc2ccccc12</td>\n",
       "      <td>[-0.026644 -0.075508  0.096217 -0.287798 -0.02...</td>\n",
       "      <td>[0.010333 0.015418 0.022324 0.111353 0.01318  ...</td>\n",
       "      <td>[0.011959 0.021591 0.017375 0.232471 0.050276 ...</td>\n",
       "      <td>[-0.07558000000000001, -0.18802500000000003, 0...</td>\n",
       "    </tr>\n",
       "    <tr>\n",
       "      <th>1</th>\n",
       "      <td>O=C(NCCn1cccc1)c1cccc2ccccc12</td>\n",
       "      <td>[-0.292411  0.170263 -0.085754  0.002736  0.01...</td>\n",
       "      <td>[ 0.04781   0.029278  0.02064   0.00908   0.00...</td>\n",
       "      <td>[0.026718 0.004006 0.010781 0.008124 0.007945 ...</td>\n",
       "      <td>[-0.6593499999999999, 0.30724199999999996, -0....</td>\n",
       "    </tr>\n",
       "    <tr>\n",
       "      <th>2</th>\n",
       "      <td>C=C(C)[C@H]1C[C@@H]2OO[C@H]1C=C2C</td>\n",
       "      <td>[-0.101749  0.012339 -0.07947  -0.020027 -0.05...</td>\n",
       "      <td>[0.082324 0.05751  0.020546 0.011972 0.01684  ...</td>\n",
       "      <td>[0.065786 0.029895 0.018721 0.020284 0.022533 ...</td>\n",
       "      <td>[-0.35160800000000003, -0.062727, -0.198206999...</td>\n",
       "    </tr>\n",
       "    <tr>\n",
       "      <th>3</th>\n",
       "      <td>OCCCc1cc[nH]n1</td>\n",
       "      <td>[-0.268379  0.027614 -0.050745 -0.045047  0.03...</td>\n",
       "      <td>[0.025129 0.01567  0.021808 0.028649 0.085482 ...</td>\n",
       "      <td>[0.210686 0.044551 0.042072 0.021857 0.059646 ...</td>\n",
       "      <td>[-0.772573, -0.004993000000000011, -0.16537000...</td>\n",
       "    </tr>\n",
       "    <tr>\n",
       "      <th>4</th>\n",
       "      <td>CC(=N)NCc1cccc(CNCc2ccncc2)c1</td>\n",
       "      <td>[-8.31620e-02  1.14954e-01 -2.74544e-01 -1.003...</td>\n",
       "      <td>[0.005584 0.007569 0.010781 0.00532  0.010963 ...</td>\n",
       "      <td>[0.011283 0.029042 0.090907 0.087975 0.015502 ...</td>\n",
       "      <td>[-0.183191, 0.193297, -0.650776, -0.294033, -0...</td>\n",
       "    </tr>\n",
       "    <tr>\n",
       "      <th>...</th>\n",
       "      <td>...</td>\n",
       "      <td>...</td>\n",
       "      <td>...</td>\n",
       "      <td>...</td>\n",
       "      <td>...</td>\n",
       "    </tr>\n",
       "    <tr>\n",
       "      <th>136214</th>\n",
       "      <td>CC(C)(O)C#Cc1ccc(B(O)O)c([C@H](Cc2cc(F)cc(F)c2...</td>\n",
       "      <td>[-0.085936  0.106032 -0.079299 -0.227724 -0.04...</td>\n",
       "      <td>[ 0.012857  0.009235  0.009797  0.019639  0.09...</td>\n",
       "      <td>[ 1.4045e-02  7.3160e-03  1.0070e-02  1.9841e-...</td>\n",
       "      <td>[-0.198774, 0.195513, -0.17846499999999998, -0...</td>\n",
       "    </tr>\n",
       "    <tr>\n",
       "      <th>136215</th>\n",
       "      <td>CC(C)(C)OC(=O)N1CC(CC#N)(n2cc(B3OC(C)(C)C(C)(C...</td>\n",
       "      <td>[-0.092575  0.108615 -0.092711 -0.08598  -0.12...</td>\n",
       "      <td>[ 0.002865  0.000517  0.002298  0.002298  0.00...</td>\n",
       "      <td>[ 0.007811  0.002285  0.006834  0.007181  0.02...</td>\n",
       "      <td>[-0.195826, 0.214428, -0.194554, -0.1814390000...</td>\n",
       "    </tr>\n",
       "    <tr>\n",
       "      <th>136216</th>\n",
       "      <td>CC1(C)OB(C2=CCNCC2)OC1(C)C</td>\n",
       "      <td>[-0.085222  0.09662  -0.0883   -0.199958  0.20...</td>\n",
       "      <td>[0.00882  0.005026 0.008375 0.026625 0.143174 ...</td>\n",
       "      <td>[0.008056 0.007976 0.013125 0.033209 0.022619 ...</td>\n",
       "      <td>[-0.18732000000000001, 0.180238, -0.1981, -0.4...</td>\n",
       "    </tr>\n",
       "    <tr>\n",
       "      <th>136217</th>\n",
       "      <td>CC(C)(C)OC(=O)Nc1cc(B2OC(C)(C)C(C)(C)O2)ccn1</td>\n",
       "      <td>[-0.085576  0.108086 -0.092508 -0.092366 -0.13...</td>\n",
       "      <td>[ 0.004339  0.00159   0.003044  0.003057  0.01...</td>\n",
       "      <td>[0.005991 0.003475 0.007144 0.007182 0.033176 ...</td>\n",
       "      <td>[-0.181482, 0.211107, -0.19520400000000002, -0...</td>\n",
       "    </tr>\n",
       "    <tr>\n",
       "      <th>136218</th>\n",
       "      <td>CC1(C)OB(c2cc(Br)cc(C(F)(F)F)c2)OC1(C)C</td>\n",
       "      <td>[-0.08674   0.099349 -0.083946 -0.195337  0.21...</td>\n",
       "      <td>[0.006172 0.004191 0.006841 0.021658 0.095224 ...</td>\n",
       "      <td>[0.017317 0.010347 0.011608 0.048828 0.01839  ...</td>\n",
       "      <td>[-0.19696899999999998, 0.18416000000000002, -0...</td>\n",
       "    </tr>\n",
       "  </tbody>\n",
       "</table>\n",
       "<p>136219 rows × 5 columns</p>\n",
       "</div>"
      ],
      "text/plain": [
       "                                                   smiles  \\\n",
       "0                          CNC(=S)N/N=C/c1c(O)ccc2ccccc12   \n",
       "1                           O=C(NCCn1cccc1)c1cccc2ccccc12   \n",
       "2                       C=C(C)[C@H]1C[C@@H]2OO[C@H]1C=C2C   \n",
       "3                                          OCCCc1cc[nH]n1   \n",
       "4                           CC(=N)NCc1cccc(CNCc2ccncc2)c1   \n",
       "...                                                   ...   \n",
       "136214  CC(C)(O)C#Cc1ccc(B(O)O)c([C@H](Cc2cc(F)cc(F)c2...   \n",
       "136215  CC(C)(C)OC(=O)N1CC(CC#N)(n2cc(B3OC(C)(C)C(C)(C...   \n",
       "136216                         CC1(C)OB(C2=CCNCC2)OC1(C)C   \n",
       "136217       CC(C)(C)OC(=O)Nc1cc(B2OC(C)(C)C(C)(C)O2)ccn1   \n",
       "136218            CC1(C)OB(c2cc(Br)cc(C(F)(F)F)c2)OC1(C)C   \n",
       "\n",
       "                                        hirshfeld_charges  \\\n",
       "0       [-0.026644 -0.075508  0.096217 -0.287798 -0.02...   \n",
       "1       [-0.292411  0.170263 -0.085754  0.002736  0.01...   \n",
       "2       [-0.101749  0.012339 -0.07947  -0.020027 -0.05...   \n",
       "3       [-0.268379  0.027614 -0.050745 -0.045047  0.03...   \n",
       "4       [-8.31620e-02  1.14954e-01 -2.74544e-01 -1.003...   \n",
       "...                                                   ...   \n",
       "136214  [-0.085936  0.106032 -0.079299 -0.227724 -0.04...   \n",
       "136215  [-0.092575  0.108615 -0.092711 -0.08598  -0.12...   \n",
       "136216  [-0.085222  0.09662  -0.0883   -0.199958  0.20...   \n",
       "136217  [-0.085576  0.108086 -0.092508 -0.092366 -0.13...   \n",
       "136218  [-0.08674   0.099349 -0.083946 -0.195337  0.21...   \n",
       "\n",
       "                                     hirshfeld_fukui_elec  \\\n",
       "0       [0.010333 0.015418 0.022324 0.111353 0.01318  ...   \n",
       "1       [ 0.04781   0.029278  0.02064   0.00908   0.00...   \n",
       "2       [0.082324 0.05751  0.020546 0.011972 0.01684  ...   \n",
       "3       [0.025129 0.01567  0.021808 0.028649 0.085482 ...   \n",
       "4       [0.005584 0.007569 0.010781 0.00532  0.010963 ...   \n",
       "...                                                   ...   \n",
       "136214  [ 0.012857  0.009235  0.009797  0.019639  0.09...   \n",
       "136215  [ 0.002865  0.000517  0.002298  0.002298  0.00...   \n",
       "136216  [0.00882  0.005026 0.008375 0.026625 0.143174 ...   \n",
       "136217  [ 0.004339  0.00159   0.003044  0.003057  0.01...   \n",
       "136218  [0.006172 0.004191 0.006841 0.021658 0.095224 ...   \n",
       "\n",
       "                                      hirshfeld_fukui_neu  \\\n",
       "0       [0.011959 0.021591 0.017375 0.232471 0.050276 ...   \n",
       "1       [0.026718 0.004006 0.010781 0.008124 0.007945 ...   \n",
       "2       [0.065786 0.029895 0.018721 0.020284 0.022533 ...   \n",
       "3       [0.210686 0.044551 0.042072 0.021857 0.059646 ...   \n",
       "4       [0.011283 0.029042 0.090907 0.087975 0.015502 ...   \n",
       "...                                                   ...   \n",
       "136214  [ 1.4045e-02  7.3160e-03  1.0070e-02  1.9841e-...   \n",
       "136215  [ 0.007811  0.002285  0.006834  0.007181  0.02...   \n",
       "136216  [0.008056 0.007976 0.013125 0.033209 0.022619 ...   \n",
       "136217  [0.005991 0.003475 0.007144 0.007182 0.033176 ...   \n",
       "136218  [0.017317 0.010347 0.011608 0.048828 0.01839  ...   \n",
       "\n",
       "                                                      CDD  \n",
       "0       [-0.07558000000000001, -0.18802500000000003, 0...  \n",
       "1       [-0.6593499999999999, 0.30724199999999996, -0....  \n",
       "2       [-0.35160800000000003, -0.062727, -0.198206999...  \n",
       "3       [-0.772573, -0.004993000000000011, -0.16537000...  \n",
       "4       [-0.183191, 0.193297, -0.650776, -0.294033, -0...  \n",
       "...                                                   ...  \n",
       "136214  [-0.198774, 0.195513, -0.17846499999999998, -0...  \n",
       "136215  [-0.195826, 0.214428, -0.194554, -0.1814390000...  \n",
       "136216  [-0.18732000000000001, 0.180238, -0.1981, -0.4...  \n",
       "136217  [-0.181482, 0.211107, -0.19520400000000002, -0...  \n",
       "136218  [-0.19696899999999998, 0.18416000000000002, -0...  \n",
       "\n",
       "[136219 rows x 5 columns]"
      ]
     },
     "metadata": {},
     "output_type": "display_data"
    }
   ],
   "source": [
    "data = pd.read_parquet('../data/processed/qm_calc_data.parquet')\n",
    "\n",
    "data['CDD'] = data['CDD'].progress_apply(convert_string_to_list)\n",
    "display(data)"
   ]
  },
  {
   "cell_type": "markdown",
   "metadata": {},
   "source": [
    "SkipAtom is a machine learning model designed to predict material properties by analyzing the structural and chemical environments of atoms within a material. It uses word embedding techniques to represent atomic environments and make predictions about material properties based on these embeddings. Despite its innovative approach, in our case, using SkipAtom did not improve the accuracy or performance of our predictions."
   ]
  },
  {
   "cell_type": "code",
   "execution_count": 7,
   "metadata": {
    "execution": {
     "iopub.execute_input": "2024-03-15T12:16:57.944498Z",
     "iopub.status.busy": "2024-03-15T12:16:57.944280Z",
     "iopub.status.idle": "2024-03-15T12:17:02.587872Z",
     "shell.execute_reply": "2024-03-15T12:17:02.587106Z"
    }
   },
   "outputs": [
    {
     "name": "stderr",
     "output_type": "stream",
     "text": [
      "fatal: destination path '../data/external/skipatom' already exists and is not an empty directory.\n"
     ]
    }
   ],
   "source": [
    "import subprocess\n",
    "from pathlib import Path\n",
    "from skipatom import SkipAtomInducedModel\n",
    "\n",
    "model_dir = Path(\"../data/exrernal/skipatom/data\")\n",
    "\n",
    "if not model_dir.exists():\n",
    "\n",
    "    subprocess.run([\"git\", \"clone\", \"https://github.com/lantunes/skipatom.git\", \"../data/external/skipatom\"])\n",
    "\n",
    "skipatom_model = SkipAtomInducedModel.load(\n",
    "    \"../data/external/skipatom/data/mp_2020_10_09.dim200.model\", \n",
    "    \"../data/external/skipatom/data/mp_2020_10_09.training.data\", \n",
    "    min_count=2e7, top_n=5\n",
    ")"
   ]
  },
  {
   "cell_type": "code",
   "execution_count": 8,
   "metadata": {
    "execution": {
     "iopub.execute_input": "2024-03-15T12:17:02.626942Z",
     "iopub.status.busy": "2024-03-15T12:17:02.626748Z",
     "iopub.status.idle": "2024-03-15T12:37:19.141013Z",
     "shell.execute_reply": "2024-03-15T12:37:19.140142Z"
    }
   },
   "outputs": [
    {
     "name": "stderr",
     "output_type": "stream",
     "text": [
      "100%|██████████| 136219/136219 [01:47<00:00, 1270.19it/s]\n"
     ]
    }
   ],
   "source": [
    "dataset = MoleculeDataset(data, \n",
    "                          smiles_column='smiles',\n",
    "                          target_column='CDD',\n",
    "                          addHs=True,\n",
    "                          n_jobs=-1,\n",
    "                          skipatom_model=None)"
   ]
  },
  {
   "cell_type": "code",
   "execution_count": 9,
   "metadata": {
    "execution": {
     "iopub.execute_input": "2024-03-15T12:37:19.145508Z",
     "iopub.status.busy": "2024-03-15T12:37:19.145261Z",
     "iopub.status.idle": "2024-03-15T12:37:19.160333Z",
     "shell.execute_reply": "2024-03-15T12:37:19.159729Z"
    }
   },
   "outputs": [
    {
     "data": {
      "text/plain": [
       "Data(x=[31, 133], edge_index=[2, 64], edge_attr=[64, 14], y=[31], smiles='CNC(=S)N/N=C/c1c(O)ccc2ccccc12')"
      ]
     },
     "execution_count": 9,
     "metadata": {},
     "output_type": "execute_result"
    }
   ],
   "source": [
    "datapoint = dataset[0]\n",
    "datapoint"
   ]
  },
  {
   "cell_type": "code",
   "execution_count": 10,
   "metadata": {
    "execution": {
     "iopub.execute_input": "2024-03-15T12:37:19.163486Z",
     "iopub.status.busy": "2024-03-15T12:37:19.163270Z",
     "iopub.status.idle": "2024-03-15T12:37:19.181313Z",
     "shell.execute_reply": "2024-03-15T12:37:19.180562Z"
    }
   },
   "outputs": [
    {
     "name": "stdout",
     "output_type": "stream",
     "text": [
      "Shape of atom features (x): torch.Size([31, 133])\n",
      "Shape of edge index: torch.Size([2, 64])\n",
      "Shape of edge attr: torch.Size([64, 14])\n",
      "Target value (y): tensor([-0.0756, -0.1880,  0.1527, -0.9194, -0.1204, -0.2333, -0.0461, -0.1620,\n",
      "         0.1055, -0.4826, -0.1695, -0.1810, -0.0448, -0.1405, -0.1686, -0.1502,\n",
      "        -0.1488, -0.0190,  0.0474,  0.0435,  0.0400,  0.2173,  0.2133,  0.0341,\n",
      "         0.1984,  0.0413,  0.0254,  0.0345,  0.0283,  0.0312,  0.0369])\n",
      "Shape of target value: torch.Size([31])\n",
      "Number of atoms in the molecule: 31\n",
      "Number of bonds in the molecule: 32\n"
     ]
    }
   ],
   "source": [
    "print(f\"Shape of atom features (x): {datapoint.x.shape}\")\n",
    "print(f\"Shape of edge index: {datapoint.edge_index.shape}\")\n",
    "print(f\"Shape of edge attr: {datapoint.edge_attr.shape}\")\n",
    "print(f\"Target value (y): {datapoint.y}\")\n",
    "print(f\"Shape of target value: {datapoint.y.shape}\")\n",
    "print(f\"Number of atoms in the molecule: {datapoint.x.size(0)}\")\n",
    "print(f\"Number of bonds in the molecule: {datapoint.edge_index.size(1) // 2}\")"
   ]
  },
  {
   "cell_type": "code",
   "execution_count": 12,
   "metadata": {
    "execution": {
     "iopub.execute_input": "2024-03-15T12:37:19.184355Z",
     "iopub.status.busy": "2024-03-15T12:37:19.184082Z",
     "iopub.status.idle": "2024-03-15T12:41:14.958375Z",
     "shell.execute_reply": "2024-03-15T12:41:14.957311Z"
    }
   },
   "outputs": [],
   "source": [
    "torch.save(dataset, \"../data/processed/QM_137k.pt\")"
   ]
  }
 ],
 "metadata": {
  "kernelspec": {
   "display_name": "torch_geom",
   "language": "python",
   "name": "python3"
  },
  "language_info": {
   "codemirror_mode": {
    "name": "ipython",
    "version": 3
   },
   "file_extension": ".py",
   "mimetype": "text/x-python",
   "name": "python",
   "nbconvert_exporter": "python",
   "pygments_lexer": "ipython3",
   "version": "3.10.13"
  }
 },
 "nbformat": 4,
 "nbformat_minor": 2
}
